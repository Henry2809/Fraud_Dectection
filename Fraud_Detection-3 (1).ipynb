{
 "cells": [
  {
   "cell_type": "code",
   "execution_count": 57,
   "metadata": {
    "id": "ulKKhh8kZgkL"
   },
   "outputs": [],
   "source": [
    "import numpy as np\n",
    "import pandas as pd\n",
    "import matplotlib.pyplot as plt\n",
    "import os"
   ]
  },
  {
   "cell_type": "code",
   "execution_count": 58,
   "metadata": {
    "colab": {
     "base_uri": "https://localhost:8080/"
    },
    "id": "w7vaWWaHZkBK",
    "outputId": "4c6cc0dd-2868-4ea4-ac5b-93f43734b84e"
   },
   "outputs": [
    {
     "name": "stdout",
     "output_type": "stream",
     "text": [
      "Hello World\n"
     ]
    }
   ],
   "source": [
    "print(\"Hello World\")"
   ]
  },
  {
   "cell_type": "code",
   "execution_count": 59,
   "metadata": {
    "colab": {
     "base_uri": "https://localhost:8080/",
     "height": 35
    },
    "id": "fKAbvIavtsqF",
    "outputId": "e013fbea-4340-46b6-e504-2677fd3d47b7"
   },
   "outputs": [
    {
     "data": {
      "text/plain": [
       "'/Users/henrynguyen/Desktop/Spring_2023(2nd Junior)/Data_Science_Lab/Final'"
      ]
     },
     "execution_count": 59,
     "metadata": {},
     "output_type": "execute_result"
    }
   ],
   "source": [
    "os.getcwd()"
   ]
  },
  {
   "cell_type": "markdown",
   "metadata": {
    "id": "gQqaGtIpuvrq"
   },
   "source": [
    "# Data Exploration\n"
   ]
  },
  {
   "cell_type": "code",
   "execution_count": 60,
   "metadata": {
    "id": "0JDz5J4yZrAt"
   },
   "outputs": [],
   "source": [
    "fraud_df = pd.read_csv('Synthetic_Financial_datasets_log.csv')"
   ]
  },
  {
   "cell_type": "code",
   "execution_count": 61,
   "metadata": {
    "colab": {
     "base_uri": "https://localhost:8080/"
    },
    "id": "Bygtl8YMl9l0",
    "outputId": "45038037-e1ae-4ab3-b8cf-58bf79a83de5"
   },
   "outputs": [
    {
     "name": "stdout",
     "output_type": "stream",
     "text": [
      "Index(['step', 'type', 'amount', 'nameOrig', 'oldbalanceOrg', 'newbalanceOrig',\n",
      "       'nameDest', 'oldbalanceDest', 'newbalanceDest', 'isFraud',\n",
      "       'isFlaggedFraud'],\n",
      "      dtype='object')\n"
     ]
    },
    {
     "data": {
      "text/plain": [
       "11"
      ]
     },
     "execution_count": 61,
     "metadata": {},
     "output_type": "execute_result"
    }
   ],
   "source": [
    "print(fraud_df.columns)\n",
    "len(fraud_df.columns)\n"
   ]
  },
  {
   "cell_type": "code",
   "execution_count": 62,
   "metadata": {
    "colab": {
     "base_uri": "https://localhost:8080/"
    },
    "id": "Rs6D_WGXtpZa",
    "outputId": "747276df-1ed6-4ee0-c838-252783f5727f"
   },
   "outputs": [
    {
     "name": "stdout",
     "output_type": "stream",
     "text": [
      "<class 'pandas.core.frame.DataFrame'>\n",
      "RangeIndex: 6362620 entries, 0 to 6362619\n",
      "Data columns (total 11 columns):\n",
      " #   Column          Dtype  \n",
      "---  ------          -----  \n",
      " 0   step            int64  \n",
      " 1   type            object \n",
      " 2   amount          float64\n",
      " 3   nameOrig        object \n",
      " 4   oldbalanceOrg   float64\n",
      " 5   newbalanceOrig  float64\n",
      " 6   nameDest        object \n",
      " 7   oldbalanceDest  float64\n",
      " 8   newbalanceDest  float64\n",
      " 9   isFraud         int64  \n",
      " 10  isFlaggedFraud  int64  \n",
      "dtypes: float64(5), int64(3), object(3)\n",
      "memory usage: 534.0+ MB\n"
     ]
    }
   ],
   "source": [
    "fraud_df.info()"
   ]
  },
  {
   "cell_type": "code",
   "execution_count": 63,
   "metadata": {
    "colab": {
     "base_uri": "https://localhost:8080/"
    },
    "id": "StK9vSsh_dNg",
    "outputId": "3bd15854-e8cb-429a-8a10-e8d8879dd327"
   },
   "outputs": [
    {
     "data": {
      "text/plain": [
       "count    6.362620e+06\n",
       "mean     1.798619e+05\n",
       "std      6.038582e+05\n",
       "min      0.000000e+00\n",
       "25%      1.338957e+04\n",
       "50%      7.487194e+04\n",
       "75%      2.087215e+05\n",
       "max      9.244552e+07\n",
       "Name: amount, dtype: float64"
      ]
     },
     "execution_count": 63,
     "metadata": {},
     "output_type": "execute_result"
    }
   ],
   "source": [
    "fraud_df.amount.describe()"
   ]
  },
  {
   "cell_type": "code",
   "execution_count": 64,
   "metadata": {
    "id": "zICpdErg96Sc"
   },
   "outputs": [
    {
     "data": {
      "text/plain": [
       "<Axes: >"
      ]
     },
     "execution_count": 64,
     "metadata": {},
     "output_type": "execute_result"
    },
    {
     "data": {
      "image/png": "[encoded data removed]",
      "text/plain": [
       "<Figure size 640x480 with 1 Axes>"
      ]
     },
     "metadata": {},
     "output_type": "display_data"
    }
   ],
   "source": [
    "fraud_df[\"amount\"].hist()"
   ]
  },
  {
   "cell_type": "markdown",
   "metadata": {
    "id": "cgTc_Fq_weSl"
   },
   "source": []
  },
  {
   "cell_type": "markdown",
   "metadata": {
    "id": "KUd-9clRu6i0"
   },
   "source": [
    "# Preprocess the Data\n",
    "\n",
    ">  \n",
    "\n",
    "*  Check whether there are missing values\n",
    "*  Check whether this dataset is balanced or not\n",
    "\n",
    "\n",
    "*   Check whether this dataset is balanced or not (use the bar plot to visualize the number of positive and negative samples)\n",
    "*  Check whether theare are cateogrical features\n",
    "\n",
    "\n",
    "\n",
    "\n"
   ]
  },
  {
   "cell_type": "code",
   "execution_count": 65,
   "metadata": {
    "colab": {
     "base_uri": "https://localhost:8080/"
    },
    "id": "QMfVnSkKz-Jp",
    "outputId": "3497a773-d4b2-4940-9a77-1fceaf7c4285"
   },
   "outputs": [
    {
     "name": "stdout",
     "output_type": "stream",
     "text": [
      "(6362620, 11)\n"
     ]
    },
    {
     "data": {
      "text/plain": [
       "step              0\n",
       "type              0\n",
       "amount            0\n",
       "nameOrig          0\n",
       "oldbalanceOrg     0\n",
       "newbalanceOrig    0\n",
       "nameDest          0\n",
       "oldbalanceDest    0\n",
       "newbalanceDest    0\n",
       "isFraud           0\n",
       "isFlaggedFraud    0\n",
       "dtype: int64"
      ]
     },
     "execution_count": 65,
     "metadata": {},
     "output_type": "execute_result"
    }
   ],
   "source": [
    "# Check whether there are missing values\n",
    "print(fraud_df.shape)\n",
    "fraud_df.isnull().sum()"
   ]
  },
  {
   "cell_type": "code",
   "execution_count": 66,
   "metadata": {},
   "outputs": [],
   "source": [
    "#check if dataset is balanced or not"
   ]
  },
  {
   "cell_type": "code",
   "execution_count": 67,
   "metadata": {},
   "outputs": [
    {
     "data": {
      "text/plain": [
       "isFraud\n",
       "0    6354407\n",
       "1       8213\n",
       "Name: count, dtype: int64"
      ]
     },
     "execution_count": 67,
     "metadata": {},
     "output_type": "execute_result"
    }
   ],
   "source": [
    "fraud_df.isFraud.value_counts()"
   ]
  },
  {
   "cell_type": "code",
   "execution_count": 68,
   "metadata": {},
   "outputs": [
    {
     "data": {
      "text/plain": [
       "<Axes: xlabel='isFraud'>"
      ]
     },
     "execution_count": 68,
     "metadata": {},
     "output_type": "execute_result"
    },
    {
     "data": {
      "image/png": "[encoded data removed]",
      "text/plain": [
       "<Figure size 640x480 with 1 Axes>"
      ]
     },
     "metadata": {},
     "output_type": "display_data"
    }
   ],
   "source": [
    "fraud_df.isFraud.value_counts().plot(kind=\"bar\")"
   ]
  },
  {
   "cell_type": "code",
   "execution_count": 69,
   "metadata": {},
   "outputs": [
    {
     "name": "stdout",
     "output_type": "stream",
     "text": [
      "<class 'pandas.core.frame.DataFrame'>\n",
      "RangeIndex: 6362620 entries, 0 to 6362619\n",
      "Data columns (total 11 columns):\n",
      " #   Column          Dtype  \n",
      "---  ------          -----  \n",
      " 0   step            int64  \n",
      " 1   type            object \n",
      " 2   amount          float64\n",
      " 3   nameOrig        object \n",
      " 4   oldbalanceOrg   float64\n",
      " 5   newbalanceOrig  float64\n",
      " 6   nameDest        object \n",
      " 7   oldbalanceDest  float64\n",
      " 8   newbalanceDest  float64\n",
      " 9   isFraud         int64  \n",
      " 10  isFlaggedFraud  int64  \n",
      "dtypes: float64(5), int64(3), object(3)\n",
      "memory usage: 534.0+ MB\n"
     ]
    }
   ],
   "source": [
    "#categoeical features\n",
    "fraud_df.info()"
   ]
  },
  {
   "cell_type": "markdown",
   "metadata": {
    "id": "yS8MfZfhwhQz"
   },
   "source": [
    "# Get Feature set and Class set"
   ]
  },
  {
   "cell_type": "code",
   "execution_count": 70,
   "metadata": {
    "id": "YRmdhp8fu92o"
   },
   "outputs": [],
   "source": [
    "X=fraud_df.drop(columns=\"isFraud\",inplace=False)"
   ]
  },
  {
   "cell_type": "code",
   "execution_count": 71,
   "metadata": {},
   "outputs": [
    {
     "data": {
      "text/html": [
       "<div>\n",
       "<style scoped>\n",
       "    .dataframe tbody tr th:only-of-type {\n",
       "        vertical-align: middle;\n",
       "    }\n",
       "\n",
       "    .dataframe tbody tr th {\n",
       "        vertical-align: top;\n",
       "    }\n",
       "\n",
       "    .dataframe thead th {\n",
       "        text-align: right;\n",
       "    }\n",
       "</style>\n",
       "<table border=\"1\" class=\"dataframe\">\n",
       "  <thead>\n",
       "    <tr style=\"text-align: right;\">\n",
       "      <th></th>\n",
       "      <th>step</th>\n",
       "      <th>type</th>\n",
       "      <th>amount</th>\n",
       "      <th>nameOrig</th>\n",
       "      <th>oldbalanceOrg</th>\n",
       "      <th>newbalanceOrig</th>\n",
       "      <th>nameDest</th>\n",
       "      <th>oldbalanceDest</th>\n",
       "      <th>newbalanceDest</th>\n",
       "      <th>isFlaggedFraud</th>\n",
       "    </tr>\n",
       "  </thead>\n",
       "  <tbody>\n",
       "    <tr>\n",
       "      <th>0</th>\n",
       "      <td>1</td>\n",
       "      <td>PAYMENT</td>\n",
       "      <td>9839.64</td>\n",
       "      <td>C1231006815</td>\n",
       "      <td>170136.00</td>\n",
       "      <td>160296.36</td>\n",
       "      <td>M1979787155</td>\n",
       "      <td>0.00</td>\n",
       "      <td>0.00</td>\n",
       "      <td>0</td>\n",
       "    </tr>\n",
       "    <tr>\n",
       "      <th>1</th>\n",
       "      <td>1</td>\n",
       "      <td>PAYMENT</td>\n",
       "      <td>1864.28</td>\n",
       "      <td>C1666544295</td>\n",
       "      <td>21249.00</td>\n",
       "      <td>19384.72</td>\n",
       "      <td>M2044282225</td>\n",
       "      <td>0.00</td>\n",
       "      <td>0.00</td>\n",
       "      <td>0</td>\n",
       "    </tr>\n",
       "    <tr>\n",
       "      <th>2</th>\n",
       "      <td>1</td>\n",
       "      <td>TRANSFER</td>\n",
       "      <td>181.00</td>\n",
       "      <td>C1305486145</td>\n",
       "      <td>181.00</td>\n",
       "      <td>0.00</td>\n",
       "      <td>C553264065</td>\n",
       "      <td>0.00</td>\n",
       "      <td>0.00</td>\n",
       "      <td>0</td>\n",
       "    </tr>\n",
       "    <tr>\n",
       "      <th>3</th>\n",
       "      <td>1</td>\n",
       "      <td>CASH_OUT</td>\n",
       "      <td>181.00</td>\n",
       "      <td>C840083671</td>\n",
       "      <td>181.00</td>\n",
       "      <td>0.00</td>\n",
       "      <td>C38997010</td>\n",
       "      <td>21182.00</td>\n",
       "      <td>0.00</td>\n",
       "      <td>0</td>\n",
       "    </tr>\n",
       "    <tr>\n",
       "      <th>4</th>\n",
       "      <td>1</td>\n",
       "      <td>PAYMENT</td>\n",
       "      <td>11668.14</td>\n",
       "      <td>C2048537720</td>\n",
       "      <td>41554.00</td>\n",
       "      <td>29885.86</td>\n",
       "      <td>M1230701703</td>\n",
       "      <td>0.00</td>\n",
       "      <td>0.00</td>\n",
       "      <td>0</td>\n",
       "    </tr>\n",
       "    <tr>\n",
       "      <th>...</th>\n",
       "      <td>...</td>\n",
       "      <td>...</td>\n",
       "      <td>...</td>\n",
       "      <td>...</td>\n",
       "      <td>...</td>\n",
       "      <td>...</td>\n",
       "      <td>...</td>\n",
       "      <td>...</td>\n",
       "      <td>...</td>\n",
       "      <td>...</td>\n",
       "    </tr>\n",
       "    <tr>\n",
       "      <th>6362615</th>\n",
       "      <td>743</td>\n",
       "      <td>CASH_OUT</td>\n",
       "      <td>339682.13</td>\n",
       "      <td>C786484425</td>\n",
       "      <td>339682.13</td>\n",
       "      <td>0.00</td>\n",
       "      <td>C776919290</td>\n",
       "      <td>0.00</td>\n",
       "      <td>339682.13</td>\n",
       "      <td>0</td>\n",
       "    </tr>\n",
       "    <tr>\n",
       "      <th>6362616</th>\n",
       "      <td>743</td>\n",
       "      <td>TRANSFER</td>\n",
       "      <td>6311409.28</td>\n",
       "      <td>C1529008245</td>\n",
       "      <td>6311409.28</td>\n",
       "      <td>0.00</td>\n",
       "      <td>C1881841831</td>\n",
       "      <td>0.00</td>\n",
       "      <td>0.00</td>\n",
       "      <td>0</td>\n",
       "    </tr>\n",
       "    <tr>\n",
       "      <th>6362617</th>\n",
       "      <td>743</td>\n",
       "      <td>CASH_OUT</td>\n",
       "      <td>6311409.28</td>\n",
       "      <td>C1162922333</td>\n",
       "      <td>6311409.28</td>\n",
       "      <td>0.00</td>\n",
       "      <td>C1365125890</td>\n",
       "      <td>68488.84</td>\n",
       "      <td>6379898.11</td>\n",
       "      <td>0</td>\n",
       "    </tr>\n",
       "    <tr>\n",
       "      <th>6362618</th>\n",
       "      <td>743</td>\n",
       "      <td>TRANSFER</td>\n",
       "      <td>850002.52</td>\n",
       "      <td>C1685995037</td>\n",
       "      <td>850002.52</td>\n",
       "      <td>0.00</td>\n",
       "      <td>C2080388513</td>\n",
       "      <td>0.00</td>\n",
       "      <td>0.00</td>\n",
       "      <td>0</td>\n",
       "    </tr>\n",
       "    <tr>\n",
       "      <th>6362619</th>\n",
       "      <td>743</td>\n",
       "      <td>CASH_OUT</td>\n",
       "      <td>850002.52</td>\n",
       "      <td>C1280323807</td>\n",
       "      <td>850002.52</td>\n",
       "      <td>0.00</td>\n",
       "      <td>C873221189</td>\n",
       "      <td>6510099.11</td>\n",
       "      <td>7360101.63</td>\n",
       "      <td>0</td>\n",
       "    </tr>\n",
       "  </tbody>\n",
       "</table>\n",
       "<p>6362620 rows × 10 columns</p>\n",
       "</div>"
      ],
      "text/plain": [
       "         step      type      amount     nameOrig  oldbalanceOrg  \\\n",
       "0           1   PAYMENT     9839.64  C1231006815      170136.00   \n",
       "1           1   PAYMENT     1864.28  C1666544295       21249.00   \n",
       "2           1  TRANSFER      181.00  C1305486145         181.00   \n",
       "3           1  CASH_OUT      181.00   C840083671         181.00   \n",
       "4           1   PAYMENT    11668.14  C2048537720       41554.00   \n",
       "...       ...       ...         ...          ...            ...   \n",
       "6362615   743  CASH_OUT   339682.13   C786484425      339682.13   \n",
       "6362616   743  TRANSFER  6311409.28  C1529008245     6311409.28   \n",
       "6362617   743  CASH_OUT  6311409.28  C1162922333     6311409.28   \n",
       "6362618   743  TRANSFER   850002.52  C1685995037      850002.52   \n",
       "6362619   743  CASH_OUT   850002.52  C1280323807      850002.52   \n",
       "\n",
       "         newbalanceOrig     nameDest  oldbalanceDest  newbalanceDest  \\\n",
       "0             160296.36  M1979787155            0.00            0.00   \n",
       "1              19384.72  M2044282225            0.00            0.00   \n",
       "2                  0.00   C553264065            0.00            0.00   \n",
       "3                  0.00    C38997010        21182.00            0.00   \n",
       "4              29885.86  M1230701703            0.00            0.00   \n",
       "...                 ...          ...             ...             ...   \n",
       "6362615            0.00   C776919290            0.00       339682.13   \n",
       "6362616            0.00  C1881841831            0.00            0.00   \n",
       "6362617            0.00  C1365125890        68488.84      6379898.11   \n",
       "6362618            0.00  C2080388513            0.00            0.00   \n",
       "6362619            0.00   C873221189      6510099.11      7360101.63   \n",
       "\n",
       "         isFlaggedFraud  \n",
       "0                     0  \n",
       "1                     0  \n",
       "2                     0  \n",
       "3                     0  \n",
       "4                     0  \n",
       "...                 ...  \n",
       "6362615               0  \n",
       "6362616               0  \n",
       "6362617               0  \n",
       "6362618               0  \n",
       "6362619               0  \n",
       "\n",
       "[6362620 rows x 10 columns]"
      ]
     },
     "execution_count": 71,
     "metadata": {},
     "output_type": "execute_result"
    }
   ],
   "source": [
    "X"
   ]
  },
  {
   "cell_type": "code",
   "execution_count": 72,
   "metadata": {},
   "outputs": [
    {
     "data": {
      "text/plain": [
       "0          0\n",
       "1          0\n",
       "2          1\n",
       "3          1\n",
       "4          0\n",
       "          ..\n",
       "6362615    1\n",
       "6362616    1\n",
       "6362617    1\n",
       "6362618    1\n",
       "6362619    1\n",
       "Name: isFraud, Length: 6362620, dtype: int64"
      ]
     },
     "execution_count": 72,
     "metadata": {},
     "output_type": "execute_result"
    }
   ],
   "source": [
    "Y=fraud_df.loc[:,\"isFraud\"]\n",
    "Y"
   ]
  },
  {
   "cell_type": "markdown",
   "metadata": {
    "id": "j7HI4eE7wKxA"
   },
   "source": [
    "# Feauture Engineering\n",
    "\n",
    "\n",
    "*   Use Mutual Infomation Gain to see feauture importance\n",
    "* Normalize data\n",
    "* encode categorical features\n",
    "\n",
    "\n",
    "\n",
    "\n"
   ]
  },
  {
   "cell_type": "code",
   "execution_count": 73,
   "metadata": {},
   "outputs": [
    {
     "data": {
      "text/html": [
       "<div>\n",
       "<style scoped>\n",
       "    .dataframe tbody tr th:only-of-type {\n",
       "        vertical-align: middle;\n",
       "    }\n",
       "\n",
       "    .dataframe tbody tr th {\n",
       "        vertical-align: top;\n",
       "    }\n",
       "\n",
       "    .dataframe thead th {\n",
       "        text-align: right;\n",
       "    }\n",
       "</style>\n",
       "<table border=\"1\" class=\"dataframe\">\n",
       "  <thead>\n",
       "    <tr style=\"text-align: right;\">\n",
       "      <th></th>\n",
       "      <th>step</th>\n",
       "      <th>type</th>\n",
       "      <th>amount</th>\n",
       "      <th>oldbalanceOrg</th>\n",
       "      <th>newbalanceOrig</th>\n",
       "      <th>oldbalanceDest</th>\n",
       "      <th>newbalanceDest</th>\n",
       "      <th>isFlaggedFraud</th>\n",
       "    </tr>\n",
       "  </thead>\n",
       "  <tbody>\n",
       "    <tr>\n",
       "      <th>0</th>\n",
       "      <td>1</td>\n",
       "      <td>PAYMENT</td>\n",
       "      <td>9839.64</td>\n",
       "      <td>170136.00</td>\n",
       "      <td>160296.36</td>\n",
       "      <td>0.00</td>\n",
       "      <td>0.00</td>\n",
       "      <td>0</td>\n",
       "    </tr>\n",
       "    <tr>\n",
       "      <th>1</th>\n",
       "      <td>1</td>\n",
       "      <td>PAYMENT</td>\n",
       "      <td>1864.28</td>\n",
       "      <td>21249.00</td>\n",
       "      <td>19384.72</td>\n",
       "      <td>0.00</td>\n",
       "      <td>0.00</td>\n",
       "      <td>0</td>\n",
       "    </tr>\n",
       "    <tr>\n",
       "      <th>2</th>\n",
       "      <td>1</td>\n",
       "      <td>TRANSFER</td>\n",
       "      <td>181.00</td>\n",
       "      <td>181.00</td>\n",
       "      <td>0.00</td>\n",
       "      <td>0.00</td>\n",
       "      <td>0.00</td>\n",
       "      <td>0</td>\n",
       "    </tr>\n",
       "    <tr>\n",
       "      <th>3</th>\n",
       "      <td>1</td>\n",
       "      <td>CASH_OUT</td>\n",
       "      <td>181.00</td>\n",
       "      <td>181.00</td>\n",
       "      <td>0.00</td>\n",
       "      <td>21182.00</td>\n",
       "      <td>0.00</td>\n",
       "      <td>0</td>\n",
       "    </tr>\n",
       "    <tr>\n",
       "      <th>4</th>\n",
       "      <td>1</td>\n",
       "      <td>PAYMENT</td>\n",
       "      <td>11668.14</td>\n",
       "      <td>41554.00</td>\n",
       "      <td>29885.86</td>\n",
       "      <td>0.00</td>\n",
       "      <td>0.00</td>\n",
       "      <td>0</td>\n",
       "    </tr>\n",
       "    <tr>\n",
       "      <th>...</th>\n",
       "      <td>...</td>\n",
       "      <td>...</td>\n",
       "      <td>...</td>\n",
       "      <td>...</td>\n",
       "      <td>...</td>\n",
       "      <td>...</td>\n",
       "      <td>...</td>\n",
       "      <td>...</td>\n",
       "    </tr>\n",
       "    <tr>\n",
       "      <th>6362615</th>\n",
       "      <td>743</td>\n",
       "      <td>CASH_OUT</td>\n",
       "      <td>339682.13</td>\n",
       "      <td>339682.13</td>\n",
       "      <td>0.00</td>\n",
       "      <td>0.00</td>\n",
       "      <td>339682.13</td>\n",
       "      <td>0</td>\n",
       "    </tr>\n",
       "    <tr>\n",
       "      <th>6362616</th>\n",
       "      <td>743</td>\n",
       "      <td>TRANSFER</td>\n",
       "      <td>6311409.28</td>\n",
       "      <td>6311409.28</td>\n",
       "      <td>0.00</td>\n",
       "      <td>0.00</td>\n",
       "      <td>0.00</td>\n",
       "      <td>0</td>\n",
       "    </tr>\n",
       "    <tr>\n",
       "      <th>6362617</th>\n",
       "      <td>743</td>\n",
       "      <td>CASH_OUT</td>\n",
       "      <td>6311409.28</td>\n",
       "      <td>6311409.28</td>\n",
       "      <td>0.00</td>\n",
       "      <td>68488.84</td>\n",
       "      <td>6379898.11</td>\n",
       "      <td>0</td>\n",
       "    </tr>\n",
       "    <tr>\n",
       "      <th>6362618</th>\n",
       "      <td>743</td>\n",
       "      <td>TRANSFER</td>\n",
       "      <td>850002.52</td>\n",
       "      <td>850002.52</td>\n",
       "      <td>0.00</td>\n",
       "      <td>0.00</td>\n",
       "      <td>0.00</td>\n",
       "      <td>0</td>\n",
       "    </tr>\n",
       "    <tr>\n",
       "      <th>6362619</th>\n",
       "      <td>743</td>\n",
       "      <td>CASH_OUT</td>\n",
       "      <td>850002.52</td>\n",
       "      <td>850002.52</td>\n",
       "      <td>0.00</td>\n",
       "      <td>6510099.11</td>\n",
       "      <td>7360101.63</td>\n",
       "      <td>0</td>\n",
       "    </tr>\n",
       "  </tbody>\n",
       "</table>\n",
       "<p>6362620 rows × 8 columns</p>\n",
       "</div>"
      ],
      "text/plain": [
       "         step      type      amount  oldbalanceOrg  newbalanceOrig  \\\n",
       "0           1   PAYMENT     9839.64      170136.00       160296.36   \n",
       "1           1   PAYMENT     1864.28       21249.00        19384.72   \n",
       "2           1  TRANSFER      181.00         181.00            0.00   \n",
       "3           1  CASH_OUT      181.00         181.00            0.00   \n",
       "4           1   PAYMENT    11668.14       41554.00        29885.86   \n",
       "...       ...       ...         ...            ...             ...   \n",
       "6362615   743  CASH_OUT   339682.13      339682.13            0.00   \n",
       "6362616   743  TRANSFER  6311409.28     6311409.28            0.00   \n",
       "6362617   743  CASH_OUT  6311409.28     6311409.28            0.00   \n",
       "6362618   743  TRANSFER   850002.52      850002.52            0.00   \n",
       "6362619   743  CASH_OUT   850002.52      850002.52            0.00   \n",
       "\n",
       "         oldbalanceDest  newbalanceDest  isFlaggedFraud  \n",
       "0                  0.00            0.00               0  \n",
       "1                  0.00            0.00               0  \n",
       "2                  0.00            0.00               0  \n",
       "3              21182.00            0.00               0  \n",
       "4                  0.00            0.00               0  \n",
       "...                 ...             ...             ...  \n",
       "6362615            0.00       339682.13               0  \n",
       "6362616            0.00            0.00               0  \n",
       "6362617        68488.84      6379898.11               0  \n",
       "6362618            0.00            0.00               0  \n",
       "6362619      6510099.11      7360101.63               0  \n",
       "\n",
       "[6362620 rows x 8 columns]"
      ]
     },
     "execution_count": 73,
     "metadata": {},
     "output_type": "execute_result"
    }
   ],
   "source": [
    "X.drop(columns=[\"nameDest\",\"nameOrig\"],inplace=True)\n",
    "X"
   ]
  },
  {
   "cell_type": "code",
   "execution_count": 74,
   "metadata": {},
   "outputs": [],
   "source": [
    "from sklearn.preprocessing import StandardScaler\n",
    "from sklearn.feature_selection import mutual_info_classif\n",
    "from sklearn.preprocessing import LabelEncoder\n",
    "from sklearn.preprocessing import OneHotEncoder\n",
    "from sklearn.compose import ColumnTransformer"
   ]
  },
  {
   "cell_type": "code",
   "execution_count": 75,
   "metadata": {},
   "outputs": [],
   "source": [
    "Le=LabelEncoder()"
   ]
  },
  {
   "cell_type": "code",
   "execution_count": 76,
   "metadata": {},
   "outputs": [],
   "source": [
    "X_encoded=Le.fit_transform(X[\"type\"])"
   ]
  },
  {
   "cell_type": "code",
   "execution_count": 77,
   "metadata": {},
   "outputs": [
    {
     "data": {
      "text/html": [
       "<div>\n",
       "<style scoped>\n",
       "    .dataframe tbody tr th:only-of-type {\n",
       "        vertical-align: middle;\n",
       "    }\n",
       "\n",
       "    .dataframe tbody tr th {\n",
       "        vertical-align: top;\n",
       "    }\n",
       "\n",
       "    .dataframe thead th {\n",
       "        text-align: right;\n",
       "    }\n",
       "</style>\n",
       "<table border=\"1\" class=\"dataframe\">\n",
       "  <thead>\n",
       "    <tr style=\"text-align: right;\">\n",
       "      <th></th>\n",
       "      <th>step</th>\n",
       "      <th>type</th>\n",
       "      <th>amount</th>\n",
       "      <th>oldbalanceOrg</th>\n",
       "      <th>newbalanceOrig</th>\n",
       "      <th>oldbalanceDest</th>\n",
       "      <th>newbalanceDest</th>\n",
       "      <th>isFlaggedFraud</th>\n",
       "    </tr>\n",
       "  </thead>\n",
       "  <tbody>\n",
       "    <tr>\n",
       "      <th>0</th>\n",
       "      <td>1</td>\n",
       "      <td>PAYMENT</td>\n",
       "      <td>9839.64</td>\n",
       "      <td>170136.00</td>\n",
       "      <td>160296.36</td>\n",
       "      <td>0.00</td>\n",
       "      <td>0.00</td>\n",
       "      <td>0</td>\n",
       "    </tr>\n",
       "    <tr>\n",
       "      <th>1</th>\n",
       "      <td>1</td>\n",
       "      <td>PAYMENT</td>\n",
       "      <td>1864.28</td>\n",
       "      <td>21249.00</td>\n",
       "      <td>19384.72</td>\n",
       "      <td>0.00</td>\n",
       "      <td>0.00</td>\n",
       "      <td>0</td>\n",
       "    </tr>\n",
       "    <tr>\n",
       "      <th>2</th>\n",
       "      <td>1</td>\n",
       "      <td>TRANSFER</td>\n",
       "      <td>181.00</td>\n",
       "      <td>181.00</td>\n",
       "      <td>0.00</td>\n",
       "      <td>0.00</td>\n",
       "      <td>0.00</td>\n",
       "      <td>0</td>\n",
       "    </tr>\n",
       "    <tr>\n",
       "      <th>3</th>\n",
       "      <td>1</td>\n",
       "      <td>CASH_OUT</td>\n",
       "      <td>181.00</td>\n",
       "      <td>181.00</td>\n",
       "      <td>0.00</td>\n",
       "      <td>21182.00</td>\n",
       "      <td>0.00</td>\n",
       "      <td>0</td>\n",
       "    </tr>\n",
       "    <tr>\n",
       "      <th>4</th>\n",
       "      <td>1</td>\n",
       "      <td>PAYMENT</td>\n",
       "      <td>11668.14</td>\n",
       "      <td>41554.00</td>\n",
       "      <td>29885.86</td>\n",
       "      <td>0.00</td>\n",
       "      <td>0.00</td>\n",
       "      <td>0</td>\n",
       "    </tr>\n",
       "    <tr>\n",
       "      <th>...</th>\n",
       "      <td>...</td>\n",
       "      <td>...</td>\n",
       "      <td>...</td>\n",
       "      <td>...</td>\n",
       "      <td>...</td>\n",
       "      <td>...</td>\n",
       "      <td>...</td>\n",
       "      <td>...</td>\n",
       "    </tr>\n",
       "    <tr>\n",
       "      <th>6362615</th>\n",
       "      <td>743</td>\n",
       "      <td>CASH_OUT</td>\n",
       "      <td>339682.13</td>\n",
       "      <td>339682.13</td>\n",
       "      <td>0.00</td>\n",
       "      <td>0.00</td>\n",
       "      <td>339682.13</td>\n",
       "      <td>0</td>\n",
       "    </tr>\n",
       "    <tr>\n",
       "      <th>6362616</th>\n",
       "      <td>743</td>\n",
       "      <td>TRANSFER</td>\n",
       "      <td>6311409.28</td>\n",
       "      <td>6311409.28</td>\n",
       "      <td>0.00</td>\n",
       "      <td>0.00</td>\n",
       "      <td>0.00</td>\n",
       "      <td>0</td>\n",
       "    </tr>\n",
       "    <tr>\n",
       "      <th>6362617</th>\n",
       "      <td>743</td>\n",
       "      <td>CASH_OUT</td>\n",
       "      <td>6311409.28</td>\n",
       "      <td>6311409.28</td>\n",
       "      <td>0.00</td>\n",
       "      <td>68488.84</td>\n",
       "      <td>6379898.11</td>\n",
       "      <td>0</td>\n",
       "    </tr>\n",
       "    <tr>\n",
       "      <th>6362618</th>\n",
       "      <td>743</td>\n",
       "      <td>TRANSFER</td>\n",
       "      <td>850002.52</td>\n",
       "      <td>850002.52</td>\n",
       "      <td>0.00</td>\n",
       "      <td>0.00</td>\n",
       "      <td>0.00</td>\n",
       "      <td>0</td>\n",
       "    </tr>\n",
       "    <tr>\n",
       "      <th>6362619</th>\n",
       "      <td>743</td>\n",
       "      <td>CASH_OUT</td>\n",
       "      <td>850002.52</td>\n",
       "      <td>850002.52</td>\n",
       "      <td>0.00</td>\n",
       "      <td>6510099.11</td>\n",
       "      <td>7360101.63</td>\n",
       "      <td>0</td>\n",
       "    </tr>\n",
       "  </tbody>\n",
       "</table>\n",
       "<p>6362620 rows × 8 columns</p>\n",
       "</div>"
      ],
      "text/plain": [
       "         step      type      amount  oldbalanceOrg  newbalanceOrig  \\\n",
       "0           1   PAYMENT     9839.64      170136.00       160296.36   \n",
       "1           1   PAYMENT     1864.28       21249.00        19384.72   \n",
       "2           1  TRANSFER      181.00         181.00            0.00   \n",
       "3           1  CASH_OUT      181.00         181.00            0.00   \n",
       "4           1   PAYMENT    11668.14       41554.00        29885.86   \n",
       "...       ...       ...         ...            ...             ...   \n",
       "6362615   743  CASH_OUT   339682.13      339682.13            0.00   \n",
       "6362616   743  TRANSFER  6311409.28     6311409.28            0.00   \n",
       "6362617   743  CASH_OUT  6311409.28     6311409.28            0.00   \n",
       "6362618   743  TRANSFER   850002.52      850002.52            0.00   \n",
       "6362619   743  CASH_OUT   850002.52      850002.52            0.00   \n",
       "\n",
       "         oldbalanceDest  newbalanceDest  isFlaggedFraud  \n",
       "0                  0.00            0.00               0  \n",
       "1                  0.00            0.00               0  \n",
       "2                  0.00            0.00               0  \n",
       "3              21182.00            0.00               0  \n",
       "4                  0.00            0.00               0  \n",
       "...                 ...             ...             ...  \n",
       "6362615            0.00       339682.13               0  \n",
       "6362616            0.00            0.00               0  \n",
       "6362617        68488.84      6379898.11               0  \n",
       "6362618            0.00            0.00               0  \n",
       "6362619      6510099.11      7360101.63               0  \n",
       "\n",
       "[6362620 rows x 8 columns]"
      ]
     },
     "execution_count": 77,
     "metadata": {},
     "output_type": "execute_result"
    }
   ],
   "source": [
    "X"
   ]
  },
  {
   "cell_type": "code",
   "execution_count": 78,
   "metadata": {},
   "outputs": [],
   "source": [
    "X_encoded=X_encoded.tolist()"
   ]
  },
  {
   "cell_type": "code",
   "execution_count": 79,
   "metadata": {},
   "outputs": [],
   "source": [
    "X_decode=X[\"type\"].tolist()"
   ]
  },
  {
   "cell_type": "code",
   "execution_count": 80,
   "metadata": {},
   "outputs": [],
   "source": [
    "code_map={}\n",
    "for item1, item2 in zip(X_decode,X_encoded):\n",
    "    val=code_map.get(item1,item2)\n",
    "    code_map[item1]=val"
   ]
  },
  {
   "cell_type": "code",
   "execution_count": 81,
   "metadata": {},
   "outputs": [
    {
     "data": {
      "text/plain": [
       "{'PAYMENT': 3, 'TRANSFER': 4, 'CASH_OUT': 1, 'DEBIT': 2, 'CASH_IN': 0}"
      ]
     },
     "execution_count": 81,
     "metadata": {},
     "output_type": "execute_result"
    }
   ],
   "source": [
    "code_map "
   ]
  },
  {
   "cell_type": "markdown",
   "metadata": {},
   "source": [
    "Code_map is to see what number meant what feature value after label encoding. We prefer label encoding here since we when we visualize the clusters we need data points as the axis. Well, maybe after PCA and we get new feautures it wouldnt matter. What do you think?"
   ]
  },
  {
   "cell_type": "code",
   "execution_count": 82,
   "metadata": {},
   "outputs": [],
   "source": [
    "X[\"type\"]=Le.fit_transform(X[\"type\"])"
   ]
  },
  {
   "cell_type": "code",
   "execution_count": 83,
   "metadata": {},
   "outputs": [],
   "source": [
    "#MI_Scores=mutual_info_classif(np.array(X),np.array(Y),random_state=None)"
   ]
  },
  {
   "cell_type": "code",
   "execution_count": 84,
   "metadata": {},
   "outputs": [],
   "source": [
    "#df_columns=X.columns.tolist()\n",
    "#feauture_importance_dict=dict(zip(df_columns,MI_Scores))\n"
   ]
  },
  {
   "cell_type": "code",
   "execution_count": 85,
   "metadata": {},
   "outputs": [],
   "source": [
    "#MI_Score_Dataset=pd.DataFrame([feauture_importance_dict])\n",
    "#MI_Score_Dataset"
   ]
  },
  {
   "cell_type": "code",
   "execution_count": 86,
   "metadata": {},
   "outputs": [
    {
     "data": {
      "text/html": [
       "<div>\n",
       "<style scoped>\n",
       "    .dataframe tbody tr th:only-of-type {\n",
       "        vertical-align: middle;\n",
       "    }\n",
       "\n",
       "    .dataframe tbody tr th {\n",
       "        vertical-align: top;\n",
       "    }\n",
       "\n",
       "    .dataframe thead th {\n",
       "        text-align: right;\n",
       "    }\n",
       "</style>\n",
       "<table border=\"1\" class=\"dataframe\">\n",
       "  <thead>\n",
       "    <tr style=\"text-align: right;\">\n",
       "      <th></th>\n",
       "      <th>step</th>\n",
       "      <th>type</th>\n",
       "      <th>amount</th>\n",
       "      <th>oldbalanceOrg</th>\n",
       "      <th>newbalanceOrig</th>\n",
       "      <th>oldbalanceDest</th>\n",
       "      <th>newbalanceDest</th>\n",
       "      <th>isFlaggedFraud</th>\n",
       "    </tr>\n",
       "  </thead>\n",
       "  <tbody>\n",
       "    <tr>\n",
       "      <th>0</th>\n",
       "      <td>1</td>\n",
       "      <td>3</td>\n",
       "      <td>9839.64</td>\n",
       "      <td>170136.00</td>\n",
       "      <td>160296.36</td>\n",
       "      <td>0.00</td>\n",
       "      <td>0.00</td>\n",
       "      <td>0</td>\n",
       "    </tr>\n",
       "    <tr>\n",
       "      <th>1</th>\n",
       "      <td>1</td>\n",
       "      <td>3</td>\n",
       "      <td>1864.28</td>\n",
       "      <td>21249.00</td>\n",
       "      <td>19384.72</td>\n",
       "      <td>0.00</td>\n",
       "      <td>0.00</td>\n",
       "      <td>0</td>\n",
       "    </tr>\n",
       "    <tr>\n",
       "      <th>2</th>\n",
       "      <td>1</td>\n",
       "      <td>4</td>\n",
       "      <td>181.00</td>\n",
       "      <td>181.00</td>\n",
       "      <td>0.00</td>\n",
       "      <td>0.00</td>\n",
       "      <td>0.00</td>\n",
       "      <td>0</td>\n",
       "    </tr>\n",
       "    <tr>\n",
       "      <th>3</th>\n",
       "      <td>1</td>\n",
       "      <td>1</td>\n",
       "      <td>181.00</td>\n",
       "      <td>181.00</td>\n",
       "      <td>0.00</td>\n",
       "      <td>21182.00</td>\n",
       "      <td>0.00</td>\n",
       "      <td>0</td>\n",
       "    </tr>\n",
       "    <tr>\n",
       "      <th>4</th>\n",
       "      <td>1</td>\n",
       "      <td>3</td>\n",
       "      <td>11668.14</td>\n",
       "      <td>41554.00</td>\n",
       "      <td>29885.86</td>\n",
       "      <td>0.00</td>\n",
       "      <td>0.00</td>\n",
       "      <td>0</td>\n",
       "    </tr>\n",
       "    <tr>\n",
       "      <th>...</th>\n",
       "      <td>...</td>\n",
       "      <td>...</td>\n",
       "      <td>...</td>\n",
       "      <td>...</td>\n",
       "      <td>...</td>\n",
       "      <td>...</td>\n",
       "      <td>...</td>\n",
       "      <td>...</td>\n",
       "    </tr>\n",
       "    <tr>\n",
       "      <th>6362615</th>\n",
       "      <td>743</td>\n",
       "      <td>1</td>\n",
       "      <td>339682.13</td>\n",
       "      <td>339682.13</td>\n",
       "      <td>0.00</td>\n",
       "      <td>0.00</td>\n",
       "      <td>339682.13</td>\n",
       "      <td>0</td>\n",
       "    </tr>\n",
       "    <tr>\n",
       "      <th>6362616</th>\n",
       "      <td>743</td>\n",
       "      <td>4</td>\n",
       "      <td>6311409.28</td>\n",
       "      <td>6311409.28</td>\n",
       "      <td>0.00</td>\n",
       "      <td>0.00</td>\n",
       "      <td>0.00</td>\n",
       "      <td>0</td>\n",
       "    </tr>\n",
       "    <tr>\n",
       "      <th>6362617</th>\n",
       "      <td>743</td>\n",
       "      <td>1</td>\n",
       "      <td>6311409.28</td>\n",
       "      <td>6311409.28</td>\n",
       "      <td>0.00</td>\n",
       "      <td>68488.84</td>\n",
       "      <td>6379898.11</td>\n",
       "      <td>0</td>\n",
       "    </tr>\n",
       "    <tr>\n",
       "      <th>6362618</th>\n",
       "      <td>743</td>\n",
       "      <td>4</td>\n",
       "      <td>850002.52</td>\n",
       "      <td>850002.52</td>\n",
       "      <td>0.00</td>\n",
       "      <td>0.00</td>\n",
       "      <td>0.00</td>\n",
       "      <td>0</td>\n",
       "    </tr>\n",
       "    <tr>\n",
       "      <th>6362619</th>\n",
       "      <td>743</td>\n",
       "      <td>1</td>\n",
       "      <td>850002.52</td>\n",
       "      <td>850002.52</td>\n",
       "      <td>0.00</td>\n",
       "      <td>6510099.11</td>\n",
       "      <td>7360101.63</td>\n",
       "      <td>0</td>\n",
       "    </tr>\n",
       "  </tbody>\n",
       "</table>\n",
       "<p>6362620 rows × 8 columns</p>\n",
       "</div>"
      ],
      "text/plain": [
       "         step  type      amount  oldbalanceOrg  newbalanceOrig  \\\n",
       "0           1     3     9839.64      170136.00       160296.36   \n",
       "1           1     3     1864.28       21249.00        19384.72   \n",
       "2           1     4      181.00         181.00            0.00   \n",
       "3           1     1      181.00         181.00            0.00   \n",
       "4           1     3    11668.14       41554.00        29885.86   \n",
       "...       ...   ...         ...            ...             ...   \n",
       "6362615   743     1   339682.13      339682.13            0.00   \n",
       "6362616   743     4  6311409.28     6311409.28            0.00   \n",
       "6362617   743     1  6311409.28     6311409.28            0.00   \n",
       "6362618   743     4   850002.52      850002.52            0.00   \n",
       "6362619   743     1   850002.52      850002.52            0.00   \n",
       "\n",
       "         oldbalanceDest  newbalanceDest  isFlaggedFraud  \n",
       "0                  0.00            0.00               0  \n",
       "1                  0.00            0.00               0  \n",
       "2                  0.00            0.00               0  \n",
       "3              21182.00            0.00               0  \n",
       "4                  0.00            0.00               0  \n",
       "...                 ...             ...             ...  \n",
       "6362615            0.00       339682.13               0  \n",
       "6362616            0.00            0.00               0  \n",
       "6362617        68488.84      6379898.11               0  \n",
       "6362618            0.00            0.00               0  \n",
       "6362619      6510099.11      7360101.63               0  \n",
       "\n",
       "[6362620 rows x 8 columns]"
      ]
     },
     "execution_count": 86,
     "metadata": {},
     "output_type": "execute_result"
    }
   ],
   "source": [
    "X"
   ]
  },
  {
   "cell_type": "code",
   "execution_count": 87,
   "metadata": {},
   "outputs": [
    {
     "data": {
      "text/plain": [
       "type\n",
       "1    2237500\n",
       "3    2151495\n",
       "0    1399284\n",
       "4     532909\n",
       "2      41432\n",
       "Name: count, dtype: int64"
      ]
     },
     "execution_count": 87,
     "metadata": {},
     "output_type": "execute_result"
    }
   ],
   "source": [
    "X.type.value_counts()"
   ]
  },
  {
   "cell_type": "code",
   "execution_count": null,
   "metadata": {},
   "outputs": [],
   "source": []
  },
  {
   "cell_type": "code",
   "execution_count": null,
   "metadata": {},
   "outputs": [],
   "source": []
  },
  {
   "cell_type": "markdown",
   "metadata": {},
   "source": [
    "Mutual information measures the amount of information shared between two variables. It is calculated based using the concept of entropy. As Mutual Information gain scores increase, it implies a higher dependency between the feature and target variable. I have to go back to youtube to relearn the details of it, lol.   "
   ]
  },
  {
   "cell_type": "code",
   "execution_count": 88,
   "metadata": {},
   "outputs": [
    {
     "data": {
      "text/html": [
       "<div>\n",
       "<style scoped>\n",
       "    .dataframe tbody tr th:only-of-type {\n",
       "        vertical-align: middle;\n",
       "    }\n",
       "\n",
       "    .dataframe tbody tr th {\n",
       "        vertical-align: top;\n",
       "    }\n",
       "\n",
       "    .dataframe thead th {\n",
       "        text-align: right;\n",
       "    }\n",
       "</style>\n",
       "<table border=\"1\" class=\"dataframe\">\n",
       "  <thead>\n",
       "    <tr style=\"text-align: right;\">\n",
       "      <th></th>\n",
       "      <th>step</th>\n",
       "      <th>type</th>\n",
       "    </tr>\n",
       "  </thead>\n",
       "  <tbody>\n",
       "    <tr>\n",
       "      <th>0</th>\n",
       "      <td>1</td>\n",
       "      <td>3</td>\n",
       "    </tr>\n",
       "    <tr>\n",
       "      <th>1</th>\n",
       "      <td>1</td>\n",
       "      <td>3</td>\n",
       "    </tr>\n",
       "    <tr>\n",
       "      <th>2</th>\n",
       "      <td>1</td>\n",
       "      <td>4</td>\n",
       "    </tr>\n",
       "    <tr>\n",
       "      <th>3</th>\n",
       "      <td>1</td>\n",
       "      <td>1</td>\n",
       "    </tr>\n",
       "    <tr>\n",
       "      <th>4</th>\n",
       "      <td>1</td>\n",
       "      <td>3</td>\n",
       "    </tr>\n",
       "    <tr>\n",
       "      <th>...</th>\n",
       "      <td>...</td>\n",
       "      <td>...</td>\n",
       "    </tr>\n",
       "    <tr>\n",
       "      <th>6362615</th>\n",
       "      <td>743</td>\n",
       "      <td>1</td>\n",
       "    </tr>\n",
       "    <tr>\n",
       "      <th>6362616</th>\n",
       "      <td>743</td>\n",
       "      <td>4</td>\n",
       "    </tr>\n",
       "    <tr>\n",
       "      <th>6362617</th>\n",
       "      <td>743</td>\n",
       "      <td>1</td>\n",
       "    </tr>\n",
       "    <tr>\n",
       "      <th>6362618</th>\n",
       "      <td>743</td>\n",
       "      <td>4</td>\n",
       "    </tr>\n",
       "    <tr>\n",
       "      <th>6362619</th>\n",
       "      <td>743</td>\n",
       "      <td>1</td>\n",
       "    </tr>\n",
       "  </tbody>\n",
       "</table>\n",
       "<p>6362620 rows × 2 columns</p>\n",
       "</div>"
      ],
      "text/plain": [
       "         step  type\n",
       "0           1     3\n",
       "1           1     3\n",
       "2           1     4\n",
       "3           1     1\n",
       "4           1     3\n",
       "...       ...   ...\n",
       "6362615   743     1\n",
       "6362616   743     4\n",
       "6362617   743     1\n",
       "6362618   743     4\n",
       "6362619   743     1\n",
       "\n",
       "[6362620 rows x 2 columns]"
      ]
     },
     "execution_count": 88,
     "metadata": {},
     "output_type": "execute_result"
    }
   ],
   "source": [
    "X.drop(columns=[\"isFlaggedFraud\",\"oldbalanceOrg\",\"newbalanceOrig\",\"oldbalanceDest\",\"newbalanceDest\",\"amount\"],inplace=True)\n",
    "X"
   ]
  },
  {
   "cell_type": "code",
   "execution_count": null,
   "metadata": {},
   "outputs": [],
   "source": []
  },
  {
   "cell_type": "code",
   "execution_count": 89,
   "metadata": {},
   "outputs": [],
   "source": [
    "ct=ColumnTransformer(transformers=[('normalize',StandardScaler(),[0,1])],remainder='passthrough')\n",
    "X=ct.fit_transform(X)"
   ]
  },
  {
   "cell_type": "code",
   "execution_count": 90,
   "metadata": {},
   "outputs": [
    {
     "data": {
      "text/html": [
       "<div>\n",
       "<style scoped>\n",
       "    .dataframe tbody tr th:only-of-type {\n",
       "        vertical-align: middle;\n",
       "    }\n",
       "\n",
       "    .dataframe tbody tr th {\n",
       "        vertical-align: top;\n",
       "    }\n",
       "\n",
       "    .dataframe thead th {\n",
       "        text-align: right;\n",
       "    }\n",
       "</style>\n",
       "<table border=\"1\" class=\"dataframe\">\n",
       "  <thead>\n",
       "    <tr style=\"text-align: right;\">\n",
       "      <th></th>\n",
       "      <th>0</th>\n",
       "      <th>1</th>\n",
       "    </tr>\n",
       "  </thead>\n",
       "  <tbody>\n",
       "    <tr>\n",
       "      <th>0</th>\n",
       "      <td>-1.703042</td>\n",
       "      <td>0.952399</td>\n",
       "    </tr>\n",
       "    <tr>\n",
       "      <th>1</th>\n",
       "      <td>-1.703042</td>\n",
       "      <td>0.952399</td>\n",
       "    </tr>\n",
       "    <tr>\n",
       "      <th>2</th>\n",
       "      <td>-1.703042</td>\n",
       "      <td>1.693076</td>\n",
       "    </tr>\n",
       "    <tr>\n",
       "      <th>3</th>\n",
       "      <td>-1.703042</td>\n",
       "      <td>-0.528954</td>\n",
       "    </tr>\n",
       "    <tr>\n",
       "      <th>4</th>\n",
       "      <td>-1.703042</td>\n",
       "      <td>0.952399</td>\n",
       "    </tr>\n",
       "    <tr>\n",
       "      <th>...</th>\n",
       "      <td>...</td>\n",
       "      <td>...</td>\n",
       "    </tr>\n",
       "    <tr>\n",
       "      <th>6362615</th>\n",
       "      <td>3.510123</td>\n",
       "      <td>-0.528954</td>\n",
       "    </tr>\n",
       "    <tr>\n",
       "      <th>6362616</th>\n",
       "      <td>3.510123</td>\n",
       "      <td>1.693076</td>\n",
       "    </tr>\n",
       "    <tr>\n",
       "      <th>6362617</th>\n",
       "      <td>3.510123</td>\n",
       "      <td>-0.528954</td>\n",
       "    </tr>\n",
       "    <tr>\n",
       "      <th>6362618</th>\n",
       "      <td>3.510123</td>\n",
       "      <td>1.693076</td>\n",
       "    </tr>\n",
       "    <tr>\n",
       "      <th>6362619</th>\n",
       "      <td>3.510123</td>\n",
       "      <td>-0.528954</td>\n",
       "    </tr>\n",
       "  </tbody>\n",
       "</table>\n",
       "<p>6362620 rows × 2 columns</p>\n",
       "</div>"
      ],
      "text/plain": [
       "                0         1\n",
       "0       -1.703042  0.952399\n",
       "1       -1.703042  0.952399\n",
       "2       -1.703042  1.693076\n",
       "3       -1.703042 -0.528954\n",
       "4       -1.703042  0.952399\n",
       "...           ...       ...\n",
       "6362615  3.510123 -0.528954\n",
       "6362616  3.510123  1.693076\n",
       "6362617  3.510123 -0.528954\n",
       "6362618  3.510123  1.693076\n",
       "6362619  3.510123 -0.528954\n",
       "\n",
       "[6362620 rows x 2 columns]"
      ]
     },
     "execution_count": 90,
     "metadata": {},
     "output_type": "execute_result"
    }
   ],
   "source": [
    "pd.DataFrame(X)"
   ]
  },
  {
   "cell_type": "code",
   "execution_count": 91,
   "metadata": {},
   "outputs": [],
   "source": [
    "feauture_list=[\"step\",\"type\"]"
   ]
  },
  {
   "cell_type": "code",
   "execution_count": 92,
   "metadata": {},
   "outputs": [],
   "source": [
    "X=pd.DataFrame(X,columns=feauture_list)"
   ]
  },
  {
   "cell_type": "code",
   "execution_count": 93,
   "metadata": {},
   "outputs": [
    {
     "name": "stdout",
     "output_type": "stream",
     "text": [
      "             step      type\n",
      "0       -1.703042  0.952399\n",
      "1       -1.703042  0.952399\n",
      "2       -1.703042  1.693076\n",
      "3       -1.703042 -0.528954\n",
      "4       -1.703042  0.952399\n",
      "...           ...       ...\n",
      "6362615  3.510123 -0.528954\n",
      "6362616  3.510123  1.693076\n",
      "6362617  3.510123 -0.528954\n",
      "6362618  3.510123  1.693076\n",
      "6362619  3.510123 -0.528954\n",
      "\n",
      "[6362620 rows x 2 columns]\n"
     ]
    }
   ],
   "source": [
    "print(X)"
   ]
  },
  {
   "cell_type": "code",
   "execution_count": 94,
   "metadata": {},
   "outputs": [
    {
     "name": "stdout",
     "output_type": "stream",
     "text": [
      "Requirement already satisfied: imbalanced-learn in /Library/Frameworks/Python.framework/Versions/3.12/lib/python3.12/site-packages (0.12.2)\n",
      "Requirement already satisfied: numpy>=1.17.3 in /Library/Frameworks/Python.framework/Versions/3.12/lib/python3.12/site-packages (from imbalanced-learn) (1.26.3)\n",
      "Requirement already satisfied: scipy>=1.5.0 in /Library/Frameworks/Python.framework/Versions/3.12/lib/python3.12/site-packages (from imbalanced-learn) (1.12.0)\n",
      "Requirement already satisfied: scikit-learn>=1.0.2 in /Library/Frameworks/Python.framework/Versions/3.12/lib/python3.12/site-packages (from imbalanced-learn) (1.4.0)\n",
      "Requirement already satisfied: joblib>=1.1.1 in /Library/Frameworks/Python.framework/Versions/3.12/lib/python3.12/site-packages (from imbalanced-learn) (1.3.2)\n",
      "Requirement already satisfied: threadpoolctl>=2.0.0 in /Library/Frameworks/Python.framework/Versions/3.12/lib/python3.12/site-packages (from imbalanced-learn) (3.2.0)\n",
      "\n",
      "\u001b[1m[\u001b[0m\u001b[34;49mnotice\u001b[0m\u001b[1;39;49m]\u001b[0m\u001b[39;49m A new release of pip is available: \u001b[0m\u001b[31;49m23.3.2\u001b[0m\u001b[39;49m -> \u001b[0m\u001b[32;49m24.0\u001b[0m\n",
      "\u001b[1m[\u001b[0m\u001b[34;49mnotice\u001b[0m\u001b[1;39;49m]\u001b[0m\u001b[39;49m To update, run: \u001b[0m\u001b[32;49mpip install --upgrade pip\u001b[0m\n"
     ]
    },
    {
     "name": "stdout",
     "output_type": "stream",
     "text": [
      "Note: you may need to restart the kernel to use updated packages.\n"
     ]
    }
   ],
   "source": [
    "pip install imbalanced-learn\n"
   ]
  },
  {
   "cell_type": "code",
   "execution_count": 95,
   "metadata": {},
   "outputs": [],
   "source": [
    "from imblearn.over_sampling import SMOTE\n",
    "smote =SMOTE()\n",
    "X_smote,Y_smote=smote.fit_resample(X,Y)"
   ]
  },
  {
   "cell_type": "markdown",
   "metadata": {},
   "source": [
    "We oversample minority class to create balanced dataset.Clustering algrothims like K-means can be sensitive to imbalanced classes. There are advantages and disadvantages to this so maybe we could discuss this point later "
   ]
  },
  {
   "cell_type": "code",
   "execution_count": 96,
   "metadata": {},
   "outputs": [],
   "source": [
    "from sklearn.model_selection import StratifiedShuffleSplit\n",
    "Y=pd.DataFrame(Y)\n",
    "\n",
    "Sampled_Data = StratifiedShuffleSplit(n_splits=1, test_size=0.99998, random_state=52)\n",
    "\n",
    "# Perform stratified sampling\n",
    "for train_index, _ in Sampled_Data.split(X_smote, Y_smote):\n",
    "    X_stratified_sampled = X_smote.iloc[train_index]\n",
    "    Y_stratified_sampled = Y_smote.iloc[train_index]\n"
   ]
  },
  {
   "cell_type": "markdown",
   "metadata": {},
   "source": [
    "We perform stratified sampling so not only to reduce the number of samples but to keep the same class distribution. We can mess around with how many samples we want by reducing the test size for less samples "
   ]
  },
  {
   "cell_type": "code",
   "execution_count": 97,
   "metadata": {},
   "outputs": [
    {
     "data": {
      "text/plain": [
       "isFraud\n",
       "0    127\n",
       "1    127\n",
       "Name: count, dtype: int64"
      ]
     },
     "execution_count": 97,
     "metadata": {},
     "output_type": "execute_result"
    }
   ],
   "source": [
    "Y_stratified_sampled = pd.DataFrame(Y_stratified_sampled)\n",
    "\n",
    "Y_stratified_sampled.isFraud.value_counts()"
   ]
  },
  {
   "cell_type": "code",
   "execution_count": 98,
   "metadata": {},
   "outputs": [
    {
     "data": {
      "text/plain": [
       "<Axes: xlabel='isFraud'>"
      ]
     },
     "execution_count": 98,
     "metadata": {},
     "output_type": "execute_result"
    },
    {
     "data": {
      "image/png": "[encoded data removed]",
      "text/plain": [
       "<Figure size 640x480 with 1 Axes>"
      ]
     },
     "metadata": {},
     "output_type": "display_data"
    }
   ],
   "source": [
    "Y_stratified_sampled.isFraud.value_counts().plot(kind=\"bar\")"
   ]
  },
  {
   "cell_type": "markdown",
   "metadata": {},
   "source": [
    "Dataset is now balanced"
   ]
  },
  {
   "cell_type": "code",
   "execution_count": 99,
   "metadata": {},
   "outputs": [
    {
     "data": {
      "text/plain": [
       "254"
      ]
     },
     "execution_count": 99,
     "metadata": {},
     "output_type": "execute_result"
    }
   ],
   "source": [
    "len(Y_stratified_sampled)"
   ]
  },
  {
   "cell_type": "markdown",
   "metadata": {},
   "source": [
    "# Important Note"
   ]
  },
  {
   "cell_type": "markdown",
   "metadata": {},
   "source": [
    "The Author of the dataset says to remove oldbalanceOrg, newbalanceOrig, oldbalanceDest, and newbalanceDest features. Most likely due to the bias in that an if new balance is great then there any algortithm would say \"Fraud\", when in actuality it could just be a regular transfer. Also because when fraud happens these arent really feautures people would have access to, unlike features such as \"amount\" or \"payement type\". I think the MI_scores even show this since they values for them are pretty low. We could potenitally still use these features though. What do you think? I also removed all the columns those are just ID's which are just noise. Also we could probably remove some of the features with low MI_scores or keep them for PCA. What do you think?"
   ]
  },
  {
   "cell_type": "markdown",
   "metadata": {},
   "source": [
    "# Use PCA For Dimensionality Reduction"
   ]
  },
  {
   "cell_type": "markdown",
   "metadata": {},
   "source": [
    "Havent used the PCA yet, I'm just going to start the doc now. Could you handle this part? This can be the last part for our progress one since we have a lot to write about!"
   ]
  },
  {
   "cell_type": "code",
   "execution_count": 100,
   "metadata": {},
   "outputs": [
    {
     "name": "stdout",
     "output_type": "stream",
     "text": [
      "              step      type\n",
      "305732   -1.597654  0.952399\n",
      "11288275  1.852028  1.693076\n",
      "12471070 -0.108178 -0.528954\n",
      "6620585   1.781770  1.693076\n",
      "3469649   0.102596 -0.528954\n",
      "...            ...       ...\n",
      "9850959  -1.337698 -0.528954\n",
      "9043973   2.385991 -0.528954\n",
      "12110771 -1.492267 -0.528954\n",
      "3753830   0.250139 -0.528954\n",
      "5314625   0.910567  1.693076\n",
      "\n",
      "[254 rows x 2 columns]\n",
      "          isFraud\n",
      "305732          0\n",
      "11288275        1\n",
      "12471070        1\n",
      "6620585         1\n",
      "3469649         0\n",
      "...           ...\n",
      "9850959         1\n",
      "9043973         1\n",
      "12110771        1\n",
      "3753830         0\n",
      "5314625         0\n",
      "\n",
      "[254 rows x 1 columns]\n"
     ]
    }
   ],
   "source": [
    "# Testing x and y stratified are the new data set\n",
    "print(X_stratified_sampled)\n",
    "print(Y_stratified_sampled)"
   ]
  },
  {
   "cell_type": "code",
   "execution_count": 101,
   "metadata": {},
   "outputs": [
    {
     "name": "stdout",
     "output_type": "stream",
     "text": [
      "[[-1.70512048  0.63345433]\n",
      " [ 1.02009302  1.32697761]\n",
      " [-0.52844989 -0.75359222]\n",
      " [ 0.96458969  1.32697761]\n",
      " [-0.3619399  -0.75359222]\n",
      " [-0.00671858 -1.4471155 ]\n",
      " [ 0.43175772 -0.75359222]\n",
      " [-1.61076482 -1.4471155 ]\n",
      " [-0.00671858 -0.75359222]\n",
      " [ 0.35405306 -0.75359222]\n",
      " [-0.14547691 -1.4471155 ]\n",
      " [-1.59411382 -0.75359222]\n",
      " [ 0.96458969 -0.75359222]\n",
      " [-0.69495988  1.32697761]\n",
      " [-0.23983257 -0.75359222]\n",
      " [-0.37645561  1.32697761]\n",
      " [-1.70512048 -1.4471155 ]\n",
      " [-0.2453829  -0.06006895]\n",
      " [ 1.94699863  1.32697761]\n",
      " [ 0.49836172 -0.75359222]\n",
      " [ 0.39979758 -0.75359222]\n",
      " [ 0.44840872 -0.75359222]\n",
      " [-0.62280555 -0.75359222]\n",
      " [-1.7320401  -0.75359222]\n",
      " [-1.69401981 -0.75359222]\n",
      " [ 1.319811    1.32697761]\n",
      " [-0.83926853  1.32697761]\n",
      " [ 0.26524773 -0.75359222]\n",
      " [ 1.67503232  1.32697761]\n",
      " [-0.58395322  1.32697761]\n",
      " [-0.81151687 -0.75359222]\n",
      " [ 0.59766569  1.32697761]\n",
      " [-0.69495988  1.32697761]\n",
      " [ 0.42620739  1.32697761]\n",
      " [-1.69957015 -0.06006895]\n",
      " [ 0.13203974 -0.75359222]\n",
      " [ 1.73053565  1.32697761]\n",
      " [ 1.13665001 -0.75359222]\n",
      " [-0.65610754 -1.4471155 ]\n",
      " [-1.74397281  1.32697761]\n",
      " [-1.3221475  -0.75359222]\n",
      " [-1.32769784  1.32697761]\n",
      " [ 0.2596974   1.32697761]\n",
      " [ 0.39845573  0.63345433]\n",
      " [-0.05667158 -0.75359222]\n",
      " [ 1.29760967 -0.75359222]\n",
      " [-1.23565483  1.32697761]\n",
      " [ 0.14869074 -0.75359222]\n",
      " [ 0.31520073  1.32697761]\n",
      " [ 2.19676362 -0.75359222]\n",
      " [ 1.319811    1.32697761]\n",
      " [ 0.44285839  1.32697761]\n",
      " [-1.27774484  1.32697761]\n",
      " [ 0.56496572  1.32697761]\n",
      " [ 0.68152271 -0.75359222]\n",
      " [ 0.75922737  1.32697761]\n",
      " [-0.37859089  1.32697761]\n",
      " [-0.96692619 -0.75359222]\n",
      " [ 1.59177732 -0.75359222]\n",
      " [-1.25554351  0.63345433]\n",
      " [ 1.93034763  1.32697761]\n",
      " [ 0.43730806  0.63345433]\n",
      " [-1.06683219 -0.75359222]\n",
      " [ 0.49836172  1.32697761]\n",
      " [ 0.2763484   0.63345433]\n",
      " [ 0.52601539 -0.75359222]\n",
      " [-0.81151687  0.63345433]\n",
      " [-0.08442325 -0.75359222]\n",
      " [-1.60521449 -1.4471155 ]\n",
      " [ 0.05433508  0.63345433]\n",
      " [ 0.31520073 -0.75359222]\n",
      " [-0.86146987  0.63345433]\n",
      " [-1.70512048  0.63345433]\n",
      " [ 0.1823383  -0.75359222]\n",
      " [ 1.69723365 -0.75359222]\n",
      " [ 1.59732765 -0.75359222]\n",
      " [-1.21669118  1.32697761]\n",
      " [ 0.40400606 -0.75359222]\n",
      " [ 0.52611338 -0.75359222]\n",
      " [ 0.09873774 -0.75359222]\n",
      " [ 0.57606638  1.32697761]\n",
      " [ 0.82028103 -0.75359222]\n",
      " [-1.58301315 -1.4471155 ]\n",
      " [-1.72732181  0.63345433]\n",
      " [-0.75601354  0.63345433]\n",
      " [ 0.90466779 -0.75359222]\n",
      " [ 0.97569036 -0.75359222]\n",
      " [ 0.65932138  0.63345433]\n",
      " [-0.27313457 -0.75359222]\n",
      " [-0.7837652  -0.75359222]\n",
      " [ 0.21529474  0.63345433]\n",
      " [-0.55620155 -0.75359222]\n",
      " [ 1.53627399 -0.75359222]\n",
      " [ 0.27079807 -1.4471155 ]\n",
      " [ 0.15424107  0.63345433]\n",
      " [ 2.03580396  0.63345433]\n",
      " [-0.60060421 -0.75359222]\n",
      " [-0.25093324 -0.75359222]\n",
      " [ 1.58668344 -0.75359222]\n",
      " [-0.36749023  0.63345433]\n",
      " [ 0.12093908  1.32697761]\n",
      " [-0.91142286 -0.75359222]\n",
      " [-1.10568452  1.32697761]\n",
      " [-1.43315416 -0.75359222]\n",
      " [ 0.83693203 -0.75359222]\n",
      " [ 0.34850273 -0.75359222]\n",
      " [-0.97247653  1.32697761]\n",
      " [ 0.15979141 -0.75359222]\n",
      " [-0.75046321 -0.75359222]\n",
      " [ 1.9081463  -0.75359222]\n",
      " [ 0.56496572 -0.75359222]\n",
      " [-1.07238252  0.63345433]\n",
      " [-0.08997358  1.32697761]\n",
      " [-1.04463085  1.32697761]\n",
      " [ 0.13203974 -1.4471155 ]\n",
      " [ 0.14314041  1.32697761]\n",
      " [-0.66720821  0.63345433]\n",
      " [ 0.43175772 -1.4471155 ]\n",
      " [-0.50624855 -0.75359222]\n",
      " [-0.67830888 -1.4471155 ]\n",
      " [-0.48959755 -1.4471155 ]\n",
      " [-1.54971116  0.63345433]\n",
      " [ 0.28189873 -0.75359222]\n",
      " [ 0.73147571  1.32697761]\n",
      " [ 0.3096504  -0.75359222]\n",
      " [ 0.31520073 -0.75359222]\n",
      " [ 1.86929397  1.32697761]\n",
      " [-0.16212791 -0.75359222]\n",
      " [ 0.01548275  0.63345433]\n",
      " [ 0.03213375  0.63345433]\n",
      " [ 0.23194574 -0.75359222]\n",
      " [ 0.2596974  -0.75359222]\n",
      " [ 0.42620739 -0.75359222]\n",
      " [-0.10107424  0.63345433]\n",
      " [-1.59966415  0.63345433]\n",
      " [ 0.35960339 -0.75359222]\n",
      " [ 0.28189873  0.63345433]\n",
      " [-1.01132886  0.63345433]\n",
      " [-0.38414123  0.63345433]\n",
      " [ 1.75828731  1.32697761]\n",
      " [-0.7837652  -0.75359222]\n",
      " [-0.63945655 -0.75359222]\n",
      " [-0.13992658  0.63345433]\n",
      " [ 1.71943498  1.32697761]\n",
      " [ 1.51407266  1.32697761]\n",
      " [-1.42266985  1.32697761]\n",
      " [-0.40634256 -0.75359222]\n",
      " [-0.39524189 -1.4471155 ]\n",
      " [ 0.45395906 -0.75359222]\n",
      " [-1.03908052 -0.75359222]\n",
      " [-0.74491287 -0.75359222]\n",
      " [ 1.36421367 -0.75359222]\n",
      " [-1.56636216 -0.75359222]\n",
      " [ 0.14314041 -1.4471155 ]\n",
      " [ 0.14869074 -0.75359222]\n",
      " [-0.66165788 -0.75359222]\n",
      " [ 0.38485974  1.32697761]\n",
      " [ 1.8748443  -0.75359222]\n",
      " [-0.08442325  0.63345433]\n",
      " [-0.38414123 -0.75359222]\n",
      " [ 0.03213375 -0.75359222]\n",
      " [-0.76156387 -1.4471155 ]\n",
      " [-0.59505388  0.63345433]\n",
      " [-1.05916541 -0.75359222]\n",
      " [-0.01226892  0.63345433]\n",
      " [ 1.9081463   0.63345433]\n",
      " [-0.06777225 -0.75359222]\n",
      " [ 0.2929994  -0.75359222]\n",
      " [-0.00671858  1.32697761]\n",
      " [ 0.02103308  0.63345433]\n",
      " [-1.33324817  1.32697761]\n",
      " [ 0.73702604  1.32697761]\n",
      " [ 1.11999902 -0.75359222]\n",
      " [-0.48404722 -0.75359222]\n",
      " [-1.58301315  1.32697761]\n",
      " [-0.66165788  0.63345433]\n",
      " [-0.93362419 -0.75359222]\n",
      " [-0.12327558 -1.4471155 ]\n",
      " [-1.06683219 -1.4471155 ]\n",
      " [-0.10107424 -0.75359222]\n",
      " [-1.56636216  0.63345433]\n",
      " [-0.67275854  0.63345433]\n",
      " [ 0.43175772  0.63345433]\n",
      " [-1.71622115 -0.75359222]\n",
      " [ 0.39290539 -0.75359222]\n",
      " [-0.40634256 -0.75359222]\n",
      " [ 0.42065706 -1.4471155 ]\n",
      " [ 0.00438208  0.63345433]\n",
      " [ 0.32075106 -1.4471155 ]\n",
      " [-0.80596654 -0.75359222]\n",
      " [-1.73287215 -0.75359222]\n",
      " [-1.03908052 -1.4471155 ]\n",
      " [ 0.73702604  1.32697761]\n",
      " [ 0.91463669  1.32697761]\n",
      " [-0.41189289 -1.4471155 ]\n",
      " [-0.66165788  0.63345433]\n",
      " [-1.31659717 -0.75359222]\n",
      " [-0.7837652   1.32697761]\n",
      " [-0.8004162  -1.4471155 ]\n",
      " [-1.29439584  1.32697761]\n",
      " [ 0.7647777   1.32697761]\n",
      " [ 1.55793166 -0.75359222]\n",
      " [ 0.00438208 -0.75359222]\n",
      " [ 1.37531433  1.32697761]\n",
      " [-0.38414123  0.63345433]\n",
      " [ 0.3096504  -1.4471155 ]\n",
      " [ 0.44840872  0.63345433]\n",
      " [ 0.70372404 -0.75359222]\n",
      " [ 2.16901195 -0.75359222]\n",
      " [ 1.79158931  1.32697761]\n",
      " [ 0.07098608  0.63345433]\n",
      " [ 1.20325401 -0.06006895]\n",
      " [ 0.57606638  1.32697761]\n",
      " [-0.66720821 -0.75359222]\n",
      " [ 0.40400606 -0.75359222]\n",
      " [-1.56081182  0.63345433]\n",
      " [ 2.11905896  1.32697761]\n",
      " [-1.11123485 -0.75359222]\n",
      " [-0.54510088 -0.75359222]\n",
      " [ 0.44285839  1.32697761]\n",
      " [ 1.59177732 -0.75359222]\n",
      " [ 0.67597238  1.32697761]\n",
      " [ 0.92573736  0.63345433]\n",
      " [-0.51179889  1.32697761]\n",
      " [ 0.18199274  0.63345433]\n",
      " [ 1.46966999  1.32697761]\n",
      " [ 1.21832047 -0.75359222]\n",
      " [ 1.56402566 -0.75359222]\n",
      " [ 1.18660301  1.32697761]\n",
      " [-0.75046321 -0.75359222]\n",
      " [ 1.07004602  1.32697761]\n",
      " [ 1.50852233 -0.75359222]\n",
      " [ 0.49836172 -0.75359222]\n",
      " [ 1.33091167  1.32697761]\n",
      " [-1.06683219 -0.75359222]\n",
      " [-0.35083923  1.32697761]\n",
      " [-0.77266454 -0.75359222]\n",
      " [-1.47755683  1.32697761]\n",
      " [-0.79486587 -1.4471155 ]\n",
      " [ 0.2097444  -0.75359222]\n",
      " [ 1.73608598  1.32697761]\n",
      " [ 2.18566295  1.32697761]\n",
      " [-0.09552391 -0.75359222]\n",
      " [-0.58395322  1.32697761]\n",
      " [-0.94226383 -0.75359222]\n",
      " [ 1.78048864  1.32697761]\n",
      " [-0.10107424 -0.75359222]\n",
      " [-0.50069822  1.32697761]\n",
      " [-1.06683219  0.63345433]\n",
      " [-1.49975816 -0.75359222]\n",
      " [ 1.44191833 -0.75359222]\n",
      " [-1.62186549 -0.75359222]\n",
      " [-0.2453829  -0.75359222]\n",
      " [ 0.2763484   1.32697761]]\n"
     ]
    }
   ],
   "source": [
    "# scaling x ensures that all variables contribute equally to the principal components.\n",
    "# align indices starting from 0\n",
    "X_stratified_sampled.reset_index(drop=True, inplace=True)\n",
    "Y_stratified_sampled.reset_index(drop=True, inplace=True)\n",
    "\n",
    "from sklearn.preprocessing import StandardScaler\n",
    "scaler= StandardScaler()\n",
    "X_scaled = scaler.fit_transform(X_stratified_sampled) \n",
    "print(X_scaled)\n",
    "\n",
    "\n"
   ]
  },
  {
   "cell_type": "markdown",
   "metadata": {},
   "source": [
    "Basically, pca is the process figuring out the most IMPORTANT features that has the most impact on the targe variable (isfraud)"
   ]
  },
  {
   "cell_type": "code",
   "execution_count": 102,
   "metadata": {},
   "outputs": [
    {
     "name": "stderr",
     "output_type": "stream",
     "text": [
      "/Library/Frameworks/Python.framework/Versions/3.12/lib/python3.12/site-packages/sklearn/base.py:493: UserWarning: X does not have valid feature names, but PCA was fitted with feature names\n",
      "  warnings.warn(\n"
     ]
    }
   ],
   "source": [
    "from sklearn.decomposition import PCA\n",
    "\n",
    "# pca, reduce the number of features from 8 to 2\n",
    "pca = PCA(n_components=2)\n",
    "X_r = pca.fit(X_stratified_sampled).transform(X_scaled)"
   ]
  },
  {
   "cell_type": "code",
   "execution_count": 103,
   "metadata": {},
   "outputs": [
    {
     "name": "stdout",
     "output_type": "stream",
     "text": [
      "number of new features: 2\n"
     ]
    }
   ],
   "source": [
    "print('number of new features: {}'.format(X_r.shape[1]))"
   ]
  },
  {
   "cell_type": "markdown",
   "metadata": {},
   "source": [
    "PC1 cover the most variance in terms of features from the data set, then PC2 woule be second"
   ]
  },
  {
   "cell_type": "code",
   "execution_count": 104,
   "metadata": {},
   "outputs": [
    {
     "name": "stdout",
     "output_type": "stream",
     "text": [
      "          PC1       PC2\n",
      "0   -2.024067  1.079446\n",
      "1    0.778040  0.842888\n",
      "2   -1.366138 -0.616308\n",
      "3    0.725593  0.861053\n",
      "4   -1.208798 -0.670802\n",
      "..        ...       ...\n",
      "249 -2.283957 -0.298425\n",
      "250  0.495721 -1.261156\n",
      "251 -2.399339 -0.258463\n",
      "252 -1.098660 -0.708948\n",
      "253  0.075254  1.086296\n",
      "\n",
      "[254 rows x 2 columns]\n"
     ]
    }
   ],
   "source": [
    "X_r_df = pd.DataFrame(X_r, columns=['PC1', 'PC2'])\n",
    "print(X_r_df)"
   ]
  },
  {
   "cell_type": "code",
   "execution_count": 105,
   "metadata": {},
   "outputs": [
    {
     "name": "stdout",
     "output_type": "stream",
     "text": [
      "          PC1       PC2  isFraud\n",
      "0   -2.024067  1.079446        0\n",
      "1    0.778040  0.842888        1\n",
      "2   -1.366138 -0.616308        1\n",
      "3    0.725593  0.861053        1\n",
      "4   -1.208798 -0.670802        0\n",
      "..        ...       ...      ...\n",
      "249 -2.283957 -0.298425        1\n",
      "250  0.495721 -1.261156        1\n",
      "251 -2.399339 -0.258463        1\n",
      "252 -1.098660 -0.708948        0\n",
      "253  0.075254  1.086296        0\n",
      "\n",
      "[254 rows x 3 columns]\n"
     ]
    }
   ],
   "source": [
    "con_with_y = pd.concat([X_r_df, Y_stratified_sampled], axis = 1)\n",
    "print(con_with_y)"
   ]
  },
  {
   "cell_type": "code",
   "execution_count": 106,
   "metadata": {},
   "outputs": [
    {
     "data": {
      "image/png": "[encoded data removed]",
      "text/plain": [
       "<Figure size 800x600 with 1 Axes>"
      ]
     },
     "metadata": {},
     "output_type": "display_data"
    }
   ],
   "source": [
    "pca1 = con_with_y['PC1']\n",
    "pca2 = con_with_y['PC2']\n",
    "\n",
    "# Extract fraud labels\n",
    "fraud_labels = con_with_y['isFraud']\n",
    "\n",
    "# Create scatter plot\n",
    "plt.figure(figsize=(8, 6))\n",
    "plt.scatter(pca1[fraud_labels == 0], pca2[fraud_labels == 0], color='green', label='Non-Fraud',alpha=0.6)\n",
    "plt.scatter(pca1[fraud_labels == 1], pca2[fraud_labels == 1], color='red', label='Fraud',alpha=0.6)\n",
    "\n",
    "\n",
    "plt.xlabel('PCA1')\n",
    "plt.ylabel('PCA2')\n",
    "plt.title('Scatter Plot of Fraud vs Non-Fraud in PCA Space')\n",
    "\n",
    "plt.legend()\n",
    "plt.show()"
   ]
  },
  {
   "cell_type": "code",
   "execution_count": 107,
   "metadata": {},
   "outputs": [
    {
     "name": "stdout",
     "output_type": "stream",
     "text": [
      "Maximum value in PCA1: 1.8794220660976801\n",
      "Minimum value in PCA1: -2.704980918839859\n",
      "Maximum value in PCA1: 1.7474923962456557\n",
      "Minimum value in PCA1: -1.585888688741057\n"
     ]
    }
   ],
   "source": [
    "min_pca1 = pca1.min()\n",
    "max_pca1 = pca1.max()\n",
    "\n",
    "max_pca2 = pca2.max()\n",
    "min_pca2 = pca2.min()\n",
    "\n",
    "\n",
    "print(\"Maximum value in PCA1:\", max_pca1)\n",
    "print(\"Minimum value in PCA1:\", min_pca1)\n",
    "\n",
    "print(\"Maximum value in PCA1:\", max_pca2)\n",
    "print(\"Minimum value in PCA1:\", min_pca2)\n"
   ]
  },
  {
   "cell_type": "markdown",
   "metadata": {
    "id": "4gHXKTKizYzZ"
   },
   "source": [
    "# Elbow Method for Optimal number of Clusters"
   ]
  },
  {
   "cell_type": "markdown",
   "metadata": {},
   "source": []
  },
  {
   "cell_type": "code",
   "execution_count": 108,
   "metadata": {},
   "outputs": [
    {
     "data": {
      "text/html": [
       "<div>\n",
       "<style scoped>\n",
       "    .dataframe tbody tr th:only-of-type {\n",
       "        vertical-align: middle;\n",
       "    }\n",
       "\n",
       "    .dataframe tbody tr th {\n",
       "        vertical-align: top;\n",
       "    }\n",
       "\n",
       "    .dataframe thead th {\n",
       "        text-align: right;\n",
       "    }\n",
       "</style>\n",
       "<table border=\"1\" class=\"dataframe\">\n",
       "  <thead>\n",
       "    <tr style=\"text-align: right;\">\n",
       "      <th></th>\n",
       "      <th>PC1</th>\n",
       "      <th>PC2</th>\n",
       "    </tr>\n",
       "  </thead>\n",
       "  <tbody>\n",
       "    <tr>\n",
       "      <th>0</th>\n",
       "      <td>-2.024067</td>\n",
       "      <td>1.079446</td>\n",
       "    </tr>\n",
       "    <tr>\n",
       "      <th>1</th>\n",
       "      <td>0.778040</td>\n",
       "      <td>0.842888</td>\n",
       "    </tr>\n",
       "    <tr>\n",
       "      <th>2</th>\n",
       "      <td>-1.366138</td>\n",
       "      <td>-0.616308</td>\n",
       "    </tr>\n",
       "    <tr>\n",
       "      <th>3</th>\n",
       "      <td>0.725593</td>\n",
       "      <td>0.861053</td>\n",
       "    </tr>\n",
       "    <tr>\n",
       "      <th>4</th>\n",
       "      <td>-1.208798</td>\n",
       "      <td>-0.670802</td>\n",
       "    </tr>\n",
       "    <tr>\n",
       "      <th>...</th>\n",
       "      <td>...</td>\n",
       "      <td>...</td>\n",
       "    </tr>\n",
       "    <tr>\n",
       "      <th>249</th>\n",
       "      <td>-2.283957</td>\n",
       "      <td>-0.298425</td>\n",
       "    </tr>\n",
       "    <tr>\n",
       "      <th>250</th>\n",
       "      <td>0.495721</td>\n",
       "      <td>-1.261156</td>\n",
       "    </tr>\n",
       "    <tr>\n",
       "      <th>251</th>\n",
       "      <td>-2.399339</td>\n",
       "      <td>-0.258463</td>\n",
       "    </tr>\n",
       "    <tr>\n",
       "      <th>252</th>\n",
       "      <td>-1.098660</td>\n",
       "      <td>-0.708948</td>\n",
       "    </tr>\n",
       "    <tr>\n",
       "      <th>253</th>\n",
       "      <td>0.075254</td>\n",
       "      <td>1.086296</td>\n",
       "    </tr>\n",
       "  </tbody>\n",
       "</table>\n",
       "<p>254 rows × 2 columns</p>\n",
       "</div>"
      ],
      "text/plain": [
       "          PC1       PC2\n",
       "0   -2.024067  1.079446\n",
       "1    0.778040  0.842888\n",
       "2   -1.366138 -0.616308\n",
       "3    0.725593  0.861053\n",
       "4   -1.208798 -0.670802\n",
       "..        ...       ...\n",
       "249 -2.283957 -0.298425\n",
       "250  0.495721 -1.261156\n",
       "251 -2.399339 -0.258463\n",
       "252 -1.098660 -0.708948\n",
       "253  0.075254  1.086296\n",
       "\n",
       "[254 rows x 2 columns]"
      ]
     },
     "execution_count": 108,
     "metadata": {},
     "output_type": "execute_result"
    }
   ],
   "source": [
    "X_r_df"
   ]
  },
  {
   "cell_type": "code",
   "execution_count": 109,
   "metadata": {},
   "outputs": [
    {
     "data": {
      "image/png": "[encoded data removed]",
      "text/plain": [
       "<Figure size 640x480 with 1 Axes>"
      ]
     },
     "metadata": {},
     "output_type": "display_data"
    }
   ],
   "source": [
    "from sklearn.cluster import KMeans\n",
    "WCSS=[]\n",
    "\n",
    "for cluster in range(1,11):\n",
    "    kmeans=KMeans(n_clusters=cluster,random_state=10)\n",
    "    kmeans.fit(X_r_df)\n",
    "    WCSS.append(kmeans.inertia_)\n",
    "x=np.arange(10)+1 \n",
    "\n",
    "plt.scatter(x,WCSS)\n",
    "plt.plot(x,WCSS)\n",
    "plt.title(\"Elbow Method for Optimal Number of Clusters\")\n",
    "plt.xlabel(\"Number of Clusters\")\n",
    "plt.ylabel(\"WCSS Value\")\n",
    "plt.show()"
   ]
  },
  {
   "cell_type": "markdown",
   "metadata": {
    "id": "Apw05jpuwxF-"
   },
   "source": [
    "# Partition with K-means\n"
   ]
  },
  {
   "cell_type": "markdown",
   "metadata": {
    "id": "sfJm6Ke5xkn0"
   },
   "source": [
    "#Partition with K-means++"
   ]
  },
  {
   "cell_type": "code",
   "execution_count": 110,
   "metadata": {
    "id": "m9CiquzpxS2i"
   },
   "outputs": [
    {
     "data": {
      "image/png": "[encoded data removed]",
      "text/plain": [
       "<Figure size 640x480 with 1 Axes>"
      ]
     },
     "metadata": {},
     "output_type": "display_data"
    }
   ],
   "source": [
    "kmeans=KMeans(n_clusters=4,random_state=10)\n",
    "kmeans.fit(X_r_df)\n",
    "predicted_partitions=kmeans.labels_\n",
    "predicted_partitions=np.array(predicted_partitions)\n",
    "colors=[\"blue\",\"green\",\"violet\",\"orange\"]\n",
    "cluster_values=[0,1,2,3]\n",
    "classes=[0,1]\n",
    "\n",
    "\n",
    "for color_val,i in zip(colors,cluster_values):\n",
    "    for class_val in classes:\n",
    "        mark=\"s\" if class_val==0 else 'o'\n",
    "        plt.scatter(X_r_df.values[((predicted_partitions==i) & (Y_stratified_sampled.values.squeeze()==class_val)) ,0],X_r_df.values[((predicted_partitions==i) & (Y_stratified_sampled.values.squeeze()==class_val)),1],color=color_val,alpha=.4,marker=mark)\n",
    "   "
   ]
  },
  {
   "cell_type": "code",
   "execution_count": 123,
   "metadata": {},
   "outputs": [
    {
     "name": "stdout",
     "output_type": "stream",
     "text": [
      "Silhouette Score for KMeans: 0.4826311667377601\n"
     ]
    }
   ],
   "source": [
    "from sklearn.metrics import silhouette_score\n",
    "silhouette_avg_KMeans = silhouette_score(X_r_df, predicted_partitions)\n",
    "print(\"Silhouette Score for KMeans:\", silhouette_avg_KMeans)"
   ]
  },
  {
   "cell_type": "code",
   "execution_count": 124,
   "metadata": {},
   "outputs": [
    {
     "name": "stdout",
     "output_type": "stream",
     "text": [
      "(254, 2)\n",
      "(254, 1)\n",
      "(254,)\n"
     ]
    }
   ],
   "source": [
    "check1=X_r_df.values\n",
    "print(check1.shape)\n",
    "print(Y_stratified_sampled.values.shape)\n",
    "print(predicted_partitions.shape)"
   ]
  },
  {
   "cell_type": "code",
   "execution_count": null,
   "metadata": {},
   "outputs": [],
   "source": []
  },
  {
   "cell_type": "markdown",
   "metadata": {},
   "source": [
    "# Specteral Clustering"
   ]
  },
  {
   "cell_type": "markdown",
   "metadata": {},
   "source": [
    "### Parition with Specteral Clustering "
   ]
  },
  {
   "cell_type": "code",
   "execution_count": 125,
   "metadata": {},
   "outputs": [
    {
     "name": "stdout",
     "output_type": "stream",
     "text": [
      "Silhouette score of the Spectral Clustering (nearest_neighbors): 0.31294586328872337\n"
     ]
    }
   ],
   "source": [
    "from sklearn.cluster import SpectralClustering\n",
    "from sklearn.model_selection import GridSearchCV\n",
    "from sklearn.metrics import silhouette_score\n",
    "\n",
    "\n",
    "\n",
    "cluster_sp_nn = SpectralClustering(n_clusters=4, assign_labels=\"discretize\", affinity='nearest_neighbors', random_state=0,n_jobs=-1).fit(X_r_df)\n",
    "\n",
    "cluster_sp_nn_label = cluster_sp_nn.labels_ \n",
    "silhouette_avg = silhouette_score(X_r_df, cluster_sp_nn_label)\n",
    "print(\"Silhouette score of the Spectral Clustering (nearest_neighbors):\", silhouette_avg)\n",
    "\n",
    "      \n"
   ]
  },
  {
   "cell_type": "markdown",
   "metadata": {},
   "source": [
    "### Visualize Specteral Clustering"
   ]
  },
  {
   "cell_type": "code",
   "execution_count": 126,
   "metadata": {},
   "outputs": [
    {
     "data": {
      "image/png": "[encoded data removed]",
      "text/plain": [
       "<Figure size 640x480 with 1 Axes>"
      ]
     },
     "metadata": {},
     "output_type": "display_data"
    }
   ],
   "source": [
    "\n",
    "for color_val,i in zip(colors,cluster_values):\n",
    "    for class_val in classes:\n",
    "        mark=\"s\" if class_val==0 else 'o'\n",
    "        plt.scatter(X_r_df.values[((cluster_sp_nn_label==i) & (Y_stratified_sampled.values.squeeze()==class_val)) ,0],X_r_df.values[((cluster_sp_nn_label==i) & (Y_stratified_sampled.values.squeeze()==class_val)),1],color=color_val,alpha=.6,marker=mark)\n",
    "   "
   ]
  },
  {
   "cell_type": "markdown",
   "metadata": {
    "id": "2avCzHL9y-gj"
   },
   "source": [
    "# Partition with Aggolomerative Method"
   ]
  },
  {
   "cell_type": "code",
   "execution_count": 127,
   "metadata": {},
   "outputs": [
    {
     "name": "stdout",
     "output_type": "stream",
     "text": [
      "Silhouette Score for Agglomerative Clustering: 0.47746530480718696\n"
     ]
    }
   ],
   "source": [
    "from sklearn.cluster import AgglomerativeClustering\n",
    "\n",
    "# Fit Agglomerative Clustering\n",
    "cluster_agglo = AgglomerativeClustering(n_clusters=4).fit(X_r_df)\n",
    "cluster_agglo_label = cluster_agglo.labels_\n",
    "\n",
    "# Calculate Silhouette Score\n",
    "silhouette_avg_agglo = silhouette_score(X_r_df, cluster_agglo_label)\n",
    "print(\"Silhouette Score for Agglomerative Clustering:\", silhouette_avg_agglo)"
   ]
  },
  {
   "cell_type": "markdown",
   "metadata": {},
   "source": [
    "### Visualize Aggolomerative Clustering"
   ]
  },
  {
   "cell_type": "code",
   "execution_count": 128,
   "metadata": {},
   "outputs": [
    {
     "data": {
      "image/png": "[encoded data removed]",
      "text/plain": [
       "<Figure size 640x480 with 1 Axes>"
      ]
     },
     "metadata": {},
     "output_type": "display_data"
    }
   ],
   "source": [
    "# For reference\n",
    "# colors=[\"blue\",\"green\",\"violet\",\"orange\"]\n",
    "# cluster_values=[0,1,2,3]\n",
    "# classes=[0,1]\n",
    "\n",
    "for color_val,i in zip(colors,cluster_values):\n",
    "    for class_val in classes:\n",
    "        mark=\"s\" if class_val==0 else 'o'\n",
    "        plt.scatter(X_r_df.values[((cluster_agglo_label==i) & (Y_stratified_sampled.values.squeeze()==class_val)) ,0],X_r_df.values[((cluster_agglo_label==i) & (Y_stratified_sampled.values.squeeze()==class_val)),1],color=color_val,alpha=.6,marker=mark)"
   ]
  },
  {
   "cell_type": "markdown",
   "metadata": {
    "id": "QTjeVmvZzki7"
   },
   "source": [
    "# Evaluate Models with Sillhoute Score\n",
    "\n",
    "\n",
    "* Use bar graph to visualize scores of each model\n",
    "\n"
   ]
  },
  {
   "cell_type": "code",
   "execution_count": 129,
   "metadata": {
    "id": "HLt_rn3zzpJy"
   },
   "outputs": [
    {
     "data": {
      "image/png": "[encoded data removed]",
      "text/plain": [
       "<Figure size 640x480 with 1 Axes>"
      ]
     },
     "metadata": {},
     "output_type": "display_data"
    }
   ],
   "source": [
    "import matplotlib.pyplot as plt\n",
    "\n",
    "# Silhouette scores for each model\n",
    "silhouette_scores = [silhouette_avg_KMeans, silhouette_avg, silhouette_avg_agglo]\n",
    "\n",
    "# When import these clustering algorithms from scikit-learn, refer back to them using their class name\n",
    "model_names = ['KMeans', 'Spectral Clustering', 'Agglomerative Clustering']\n",
    "\n",
    "# Plot bar graph\n",
    "plt.bar(model_names, silhouette_scores, color=['blue', 'green', 'red'])\n",
    "plt.xlabel('Clustering Model')\n",
    "plt.ylabel('Silhouette Score')\n",
    "plt.title('Silhouette Scores of Clustering Models')\n",
    "plt.ylim(0, 1)  # Set y-axis limit to better visualize scores\n",
    "plt.show()"
   ]
  },
  {
   "cell_type": "markdown",
   "metadata": {
    "id": "eKlny4AWzqS7"
   },
   "source": []
  }
 ],
 "metadata": {
  "colab": {
   "provenance": []
  },
  "kernelspec": {
   "display_name": "Python 3 (ipykernel)",
   "language": "python",
   "name": "python3"
  },
  "language_info": {
   "codemirror_mode": {
    "name": "ipython",
    "version": 3
   },
   "file_extension": ".py",
   "mimetype": "text/x-python",
   "name": "python",
   "nbconvert_exporter": "python",
   "pygments_lexer": "ipython3",
   "version": "3.12.1"
  }
 },
 "nbformat": 4,
 "nbformat_minor": 1
}
